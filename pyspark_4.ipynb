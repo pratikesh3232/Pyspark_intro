{
  "nbformat": 4,
  "nbformat_minor": 0,
  "metadata": {
    "colab": {
      "provenance": [],
      "authorship_tag": "ABX9TyMt/dkZviIxoJwv4QDDZDhy",
      "include_colab_link": true
    },
    "kernelspec": {
      "name": "python3",
      "display_name": "Python 3"
    },
    "language_info": {
      "name": "python"
    }
  },
  "cells": [
    {
      "cell_type": "markdown",
      "metadata": {
        "id": "view-in-github",
        "colab_type": "text"
      },
      "source": [
        "<a href=\"https://colab.research.google.com/github/pratikesh3232/Pyspark_intro/blob/main/pyspark_4.ipynb\" target=\"_parent\"><img src=\"https://colab.research.google.com/assets/colab-badge.svg\" alt=\"Open In Colab\"/></a>"
      ]
    },
    {
      "cell_type": "code",
      "execution_count": 18,
      "metadata": {
        "id": "kZ6qTPxLq907"
      },
      "outputs": [],
      "source": [
        "from pyspark.sql import SparkSession\n",
        "from pyspark.ml.feature import VectorAssembler"
      ]
    },
    {
      "cell_type": "code",
      "source": [
        "spk  = SparkSession.builder.appName('test').getOrCreate()"
      ],
      "metadata": {
        "id": "YROW-ADv30OV"
      },
      "execution_count": 19,
      "outputs": []
    },
    {
      "cell_type": "code",
      "source": [
        "df = spk.read.csv('/content/sample_data/credit_data.csv', header=True, inferSchema=True)"
      ],
      "metadata": {
        "id": "LiNygmMJ33AJ"
      },
      "execution_count": 20,
      "outputs": []
    },
    {
      "cell_type": "code",
      "source": [
        "df.show()"
      ],
      "metadata": {
        "colab": {
          "base_uri": "https://localhost:8080/"
        },
        "id": "ejSUUOEc4Rj3",
        "outputId": "6273ad03-1a9b-4961-abc1-36265de0d7ab"
      },
      "execution_count": 21,
      "outputs": [
        {
          "output_type": "stream",
          "name": "stdout",
          "text": [
            "+---+------+------+------------+---------------------+------------------------+-----------+-----------+-----------------+-------------+------------------+------------------+------------------+-------------+-----------------+\n",
            "|Age|Gender|Income|Credit Score|Credit History Length|Number of Existing Loans|Loan Amount|Loan Tenure|Existing Customer|        State|              City|         LTV Ratio|Employment Profile|Profile Score|       Occupation|\n",
            "+---+------+------+------------+---------------------+------------------------+-----------+-----------+-----------------+-------------+------------------+------------------+------------------+-------------+-----------------+\n",
            "| 31|  Male| 36000|         604|                  487|                       5|     109373|        221|               No|    Karnataka|            Mysuru| 90.94342996168837|          Salaried|           77|           Doctor|\n",
            "| 25|  Male| 50000|         447|                  386|                       2|     150000|         89|               No|    Karnataka|         Bengaluru| 91.13525304169426|          Salaried|           43|Software Engineer|\n",
            "| 62| Other|178000|         850|                  503|                      10|      69099|        110|              Yes|Uttar Pradesh|            Kanpur|              40.0|          Salaried|           90|           Banker|\n",
            "| 69|Female| 46000|         668|                  349|                       6|     150000|        148|              Yes|    Karnataka|         Bengaluru| 87.39336509478201|     Self-Employed|           86|       Contractor|\n",
            "| 52|  Male|132000|         601|                  553|                       5|     150000|        157|               No|    Karnataka|            Mysuru| 66.15875689399839|          Salaried|           90|          Teacher|\n",
            "| 64|Female|127000|         850|                  158|                      10|     108702|        111|              Yes|   Tamil Nadu|        Coimbatore| 82.33125007848662|     Self-Employed|           92|       Contractor|\n",
            "| 29|  Male| 15000|         378|                   89|                       1|      26819|        108|               No|Uttar Pradesh|           Lucknow|              95.0|     Self-Employed|           25|           Farmer|\n",
            "| 30| Other| 82000|         424|                  610|                       2|     126550|         92|               No|  West Bengal|           Kolkata| 93.63457687724849|          Salaried|           58|           Banker|\n",
            "| 52|  Male|119000|         753|                  271|                       8|     150000|        251|              Yes|    Rajasthan|            Jaipur| 75.64416579292174|        Freelancer|          100|           Writer|\n",
            "| 39|  Male|101000|         575|                  424|                       5|     113257|         12|               No|  Maharashtra|            Nagpur|   68.720556448595|          Salaried|           87|           Banker|\n",
            "| 69|  Male|166000|         384|                  381|                       1|     103472|         14|               No|   Tamil Nadu|        Coimbatore|              95.0|     Self-Employed|           13|       Shopkeeper|\n",
            "| 64|  Male|167000|         850|                  439|                      10|     150000|        102|              Yes|      Gujarat|             Surat|41.928686835508294|        Freelancer|          100|           Writer|\n",
            "| 68|Female| 88000|         554|                  186|                       4|     150000|         92|               No|    Telangana|         Hyderabad|  54.6960780760169|        Freelancer|           95|     Photographer|\n",
            "| 19|Female| 25000|         350|                  227|                       0|      30156|         30|               No|   Tamil Nadu|           Chennai| 64.83458703962643|           Student|           49|          Student|\n",
            "| 59|Female| 60000|         562|                  179|                       4|     121454|         60|               No|       Kerala|Thiruvananthapuram|              95.0|          Salaried|           82|    Civil Servant|\n",
            "| 26|Female| 53000|         547|                   18|                       4|     137722|         47|               No|    Rajasthan|           Udaipur|              95.0|          Salaried|           78|    Civil Servant|\n",
            "| 57|  Male| 36000|         821|                  409|                       9|      88563|        228|              Yes|    Karnataka|            Mysuru| 59.14587023582101|     Self-Employed|          100|       Contractor|\n",
            "| 42|  Male|115000|         502|                  302|                       3|     107712|         86|               No|    Rajasthan|           Udaipur| 64.52694824947865|     Self-Employed|           75|       Contractor|\n",
            "| 34|Female| 44000|         300|                  441|                       0|      95976|         55|               No|  West Bengal|           Kolkata| 91.20485064442639|          Salaried|           15|Software Engineer|\n",
            "| 20|Female| 57000|         733|                   11|                       7|     150000|        285|              Yes|  West Bengal|           Kolkata|              40.0|          Salaried|          100|          Teacher|\n",
            "+---+------+------+------------+---------------------+------------------------+-----------+-----------+-----------------+-------------+------------------+------------------+------------------+-------------+-----------------+\n",
            "only showing top 20 rows\n",
            "\n"
          ]
        }
      ]
    },
    {
      "cell_type": "code",
      "source": [
        "df.columns"
      ],
      "metadata": {
        "colab": {
          "base_uri": "https://localhost:8080/"
        },
        "id": "WU7m8u074SXY",
        "outputId": "bd53fcba-7e37-4c77-9d60-fb8118bb0274"
      },
      "execution_count": 22,
      "outputs": [
        {
          "output_type": "execute_result",
          "data": {
            "text/plain": [
              "['Age',\n",
              " 'Gender',\n",
              " 'Income',\n",
              " 'Credit Score',\n",
              " 'Credit History Length',\n",
              " 'Number of Existing Loans',\n",
              " 'Loan Amount',\n",
              " 'Loan Tenure',\n",
              " 'Existing Customer',\n",
              " 'State',\n",
              " 'City',\n",
              " 'LTV Ratio',\n",
              " 'Employment Profile',\n",
              " 'Profile Score',\n",
              " 'Occupation']"
            ]
          },
          "metadata": {},
          "execution_count": 22
        }
      ]
    },
    {
      "cell_type": "code",
      "source": [
        "x = VectorAssembler(inputCols=['Age',\n",
        " 'Income',\n",
        " 'Credit History Length',\n",
        " 'Number of Existing Loans',\n",
        " 'Loan Amount',\n",
        " 'Loan Tenure',\n",
        " 'LTV Ratio',\n",
        " 'Profile Score',\n",
        "],outputCol=\"X\")"
      ],
      "metadata": {
        "id": "96pEdLvq4XDI"
      },
      "execution_count": 23,
      "outputs": []
    },
    {
      "cell_type": "code",
      "source": [
        "df1 = x.transform(df)"
      ],
      "metadata": {
        "id": "RLDmUq3b40Vz"
      },
      "execution_count": 24,
      "outputs": []
    },
    {
      "cell_type": "code",
      "source": [
        "df1.show()"
      ],
      "metadata": {
        "colab": {
          "base_uri": "https://localhost:8080/"
        },
        "id": "pi9E0x4D5Du4",
        "outputId": "d2a98579-04f2-44ae-c99a-23ef0e00557c"
      },
      "execution_count": 25,
      "outputs": [
        {
          "output_type": "stream",
          "name": "stdout",
          "text": [
            "+---+------+------+------------+---------------------+------------------------+-----------+-----------+-----------------+-------------+------------------+------------------+------------------+-------------+-----------------+--------------------+\n",
            "|Age|Gender|Income|Credit Score|Credit History Length|Number of Existing Loans|Loan Amount|Loan Tenure|Existing Customer|        State|              City|         LTV Ratio|Employment Profile|Profile Score|       Occupation|                   X|\n",
            "+---+------+------+------------+---------------------+------------------------+-----------+-----------+-----------------+-------------+------------------+------------------+------------------+-------------+-----------------+--------------------+\n",
            "| 31|  Male| 36000|         604|                  487|                       5|     109373|        221|               No|    Karnataka|            Mysuru| 90.94342996168837|          Salaried|           77|           Doctor|[31.0,36000.0,487...|\n",
            "| 25|  Male| 50000|         447|                  386|                       2|     150000|         89|               No|    Karnataka|         Bengaluru| 91.13525304169426|          Salaried|           43|Software Engineer|[25.0,50000.0,386...|\n",
            "| 62| Other|178000|         850|                  503|                      10|      69099|        110|              Yes|Uttar Pradesh|            Kanpur|              40.0|          Salaried|           90|           Banker|[62.0,178000.0,50...|\n",
            "| 69|Female| 46000|         668|                  349|                       6|     150000|        148|              Yes|    Karnataka|         Bengaluru| 87.39336509478201|     Self-Employed|           86|       Contractor|[69.0,46000.0,349...|\n",
            "| 52|  Male|132000|         601|                  553|                       5|     150000|        157|               No|    Karnataka|            Mysuru| 66.15875689399839|          Salaried|           90|          Teacher|[52.0,132000.0,55...|\n",
            "| 64|Female|127000|         850|                  158|                      10|     108702|        111|              Yes|   Tamil Nadu|        Coimbatore| 82.33125007848662|     Self-Employed|           92|       Contractor|[64.0,127000.0,15...|\n",
            "| 29|  Male| 15000|         378|                   89|                       1|      26819|        108|               No|Uttar Pradesh|           Lucknow|              95.0|     Self-Employed|           25|           Farmer|[29.0,15000.0,89....|\n",
            "| 30| Other| 82000|         424|                  610|                       2|     126550|         92|               No|  West Bengal|           Kolkata| 93.63457687724849|          Salaried|           58|           Banker|[30.0,82000.0,610...|\n",
            "| 52|  Male|119000|         753|                  271|                       8|     150000|        251|              Yes|    Rajasthan|            Jaipur| 75.64416579292174|        Freelancer|          100|           Writer|[52.0,119000.0,27...|\n",
            "| 39|  Male|101000|         575|                  424|                       5|     113257|         12|               No|  Maharashtra|            Nagpur|   68.720556448595|          Salaried|           87|           Banker|[39.0,101000.0,42...|\n",
            "| 69|  Male|166000|         384|                  381|                       1|     103472|         14|               No|   Tamil Nadu|        Coimbatore|              95.0|     Self-Employed|           13|       Shopkeeper|[69.0,166000.0,38...|\n",
            "| 64|  Male|167000|         850|                  439|                      10|     150000|        102|              Yes|      Gujarat|             Surat|41.928686835508294|        Freelancer|          100|           Writer|[64.0,167000.0,43...|\n",
            "| 68|Female| 88000|         554|                  186|                       4|     150000|         92|               No|    Telangana|         Hyderabad|  54.6960780760169|        Freelancer|           95|     Photographer|[68.0,88000.0,186...|\n",
            "| 19|Female| 25000|         350|                  227|                       0|      30156|         30|               No|   Tamil Nadu|           Chennai| 64.83458703962643|           Student|           49|          Student|[19.0,25000.0,227...|\n",
            "| 59|Female| 60000|         562|                  179|                       4|     121454|         60|               No|       Kerala|Thiruvananthapuram|              95.0|          Salaried|           82|    Civil Servant|[59.0,60000.0,179...|\n",
            "| 26|Female| 53000|         547|                   18|                       4|     137722|         47|               No|    Rajasthan|           Udaipur|              95.0|          Salaried|           78|    Civil Servant|[26.0,53000.0,18....|\n",
            "| 57|  Male| 36000|         821|                  409|                       9|      88563|        228|              Yes|    Karnataka|            Mysuru| 59.14587023582101|     Self-Employed|          100|       Contractor|[57.0,36000.0,409...|\n",
            "| 42|  Male|115000|         502|                  302|                       3|     107712|         86|               No|    Rajasthan|           Udaipur| 64.52694824947865|     Self-Employed|           75|       Contractor|[42.0,115000.0,30...|\n",
            "| 34|Female| 44000|         300|                  441|                       0|      95976|         55|               No|  West Bengal|           Kolkata| 91.20485064442639|          Salaried|           15|Software Engineer|[34.0,44000.0,441...|\n",
            "| 20|Female| 57000|         733|                   11|                       7|     150000|        285|              Yes|  West Bengal|           Kolkata|              40.0|          Salaried|          100|          Teacher|[20.0,57000.0,11....|\n",
            "+---+------+------+------------+---------------------+------------------------+-----------+-----------+-----------------+-------------+------------------+------------------+------------------+-------------+-----------------+--------------------+\n",
            "only showing top 20 rows\n",
            "\n"
          ]
        }
      ]
    },
    {
      "cell_type": "code",
      "source": [
        "df_final = df1.select(['X','Credit Score'])"
      ],
      "metadata": {
        "id": "mLUSIARI5YdQ"
      },
      "execution_count": 26,
      "outputs": []
    },
    {
      "cell_type": "code",
      "source": [
        "df_final.show()"
      ],
      "metadata": {
        "colab": {
          "base_uri": "https://localhost:8080/"
        },
        "id": "tOHasGsV5s2x",
        "outputId": "23a930ff-cca1-4b1f-cd56-261083f7386d"
      },
      "execution_count": 27,
      "outputs": [
        {
          "output_type": "stream",
          "name": "stdout",
          "text": [
            "+--------------------+------------+\n",
            "|                   X|Credit Score|\n",
            "+--------------------+------------+\n",
            "|[31.0,36000.0,487...|         604|\n",
            "|[25.0,50000.0,386...|         447|\n",
            "|[62.0,178000.0,50...|         850|\n",
            "|[69.0,46000.0,349...|         668|\n",
            "|[52.0,132000.0,55...|         601|\n",
            "|[64.0,127000.0,15...|         850|\n",
            "|[29.0,15000.0,89....|         378|\n",
            "|[30.0,82000.0,610...|         424|\n",
            "|[52.0,119000.0,27...|         753|\n",
            "|[39.0,101000.0,42...|         575|\n",
            "|[69.0,166000.0,38...|         384|\n",
            "|[64.0,167000.0,43...|         850|\n",
            "|[68.0,88000.0,186...|         554|\n",
            "|[19.0,25000.0,227...|         350|\n",
            "|[59.0,60000.0,179...|         562|\n",
            "|[26.0,53000.0,18....|         547|\n",
            "|[57.0,36000.0,409...|         821|\n",
            "|[42.0,115000.0,30...|         502|\n",
            "|[34.0,44000.0,441...|         300|\n",
            "|[20.0,57000.0,11....|         733|\n",
            "+--------------------+------------+\n",
            "only showing top 20 rows\n",
            "\n"
          ]
        }
      ]
    },
    {
      "cell_type": "code",
      "source": [
        "from pyspark.ml.regression import LinearRegression"
      ],
      "metadata": {
        "id": "KHd1aV6Y5vbh"
      },
      "execution_count": 28,
      "outputs": []
    },
    {
      "cell_type": "code",
      "source": [
        "# train Test Split\n",
        "train_data, test_data = df_final.randomSplit([0.7,0.3])"
      ],
      "metadata": {
        "id": "AdPDiKx950Tn"
      },
      "execution_count": 29,
      "outputs": []
    },
    {
      "cell_type": "code",
      "source": [
        "rg = LinearRegression(featuresCol='X', labelCol='Credit Score')"
      ],
      "metadata": {
        "id": "q7U768RX549I"
      },
      "execution_count": 30,
      "outputs": []
    },
    {
      "cell_type": "code",
      "source": [
        "rg = rg.fit(train_data)"
      ],
      "metadata": {
        "id": "bNyjwzOH5_7Q"
      },
      "execution_count": 31,
      "outputs": []
    },
    {
      "cell_type": "code",
      "source": [
        "# Pred\n",
        "pred = rg.evaluate(test_data)"
      ],
      "metadata": {
        "id": "WXmDp6L36FXX"
      },
      "execution_count": 32,
      "outputs": []
    },
    {
      "cell_type": "code",
      "source": [
        "pred.predictions.show()"
      ],
      "metadata": {
        "colab": {
          "base_uri": "https://localhost:8080/"
        },
        "id": "lOI-UUa16KqQ",
        "outputId": "b71cc37f-4dd8-499f-88cc-e43fefca9528"
      },
      "execution_count": 33,
      "outputs": [
        {
          "output_type": "stream",
          "name": "stdout",
          "text": [
            "+--------------------+------------+------------------+\n",
            "|                   X|Credit Score|        prediction|\n",
            "+--------------------+------------+------------------+\n",
            "|[18.0,9000.0,18.0...|         515| 495.0072725082209|\n",
            "|[18.0,9000.0,90.0...|         760| 762.5185989824898|\n",
            "|[18.0,9000.0,91.0...|         533| 542.0439161517799|\n",
            "|[18.0,9000.0,106....|         763| 761.7194319193636|\n",
            "|[18.0,9000.0,119....|         541| 535.4990994094455|\n",
            "|[18.0,9000.0,213....|         375| 376.1405615099224|\n",
            "|[18.0,9000.0,222....|         747| 765.3921792308938|\n",
            "|[18.0,9000.0,235....|         328| 331.5784352226746|\n",
            "|[18.0,9000.0,340....|         610| 598.1745734989352|\n",
            "|[18.0,9000.0,350....|         341| 330.3912854482922|\n",
            "|[18.0,9000.0,350....|         341| 330.3912854482922|\n",
            "|[18.0,9000.0,400....|         658| 657.7567791483715|\n",
            "|[18.0,9000.0,470....|         364|378.90969855508627|\n",
            "|[18.0,9000.0,498....|         583| 602.9500346640893|\n",
            "|[18.0,9000.0,500....|         300| 321.1141358721219|\n",
            "|[18.0,9000.0,506....|         589| 602.1223315359263|\n",
            "|[18.0,9000.0,506....|         589| 602.1223315359263|\n",
            "|[18.0,9000.0,506....|         589| 602.1223315359263|\n",
            "|[18.0,9000.0,511....|         792| 759.6687934193412|\n",
            "|[18.0,9000.0,521....|         756| 758.6859231513631|\n",
            "+--------------------+------------+------------------+\n",
            "only showing top 20 rows\n",
            "\n"
          ]
        }
      ]
    },
    {
      "cell_type": "code",
      "source": [
        "pred.meanAbsoluteError, pred.meanSquaredError"
      ],
      "metadata": {
        "colab": {
          "base_uri": "https://localhost:8080/"
        },
        "id": "9ovtjcZz6NFv",
        "outputId": "eb40a76f-42ca-4210-93a1-0663f9432d8f"
      },
      "execution_count": 36,
      "outputs": [
        {
          "output_type": "execute_result",
          "data": {
            "text/plain": [
              "(14.114069209488255, 268.6080259418669)"
            ]
          },
          "metadata": {},
          "execution_count": 36
        }
      ]
    },
    {
      "cell_type": "code",
      "source": [],
      "metadata": {
        "id": "ZxLJJDcp6YRQ"
      },
      "execution_count": null,
      "outputs": []
    }
  ]
}