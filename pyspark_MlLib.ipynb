{
  "nbformat": 4,
  "nbformat_minor": 0,
  "metadata": {
    "colab": {
      "provenance": [],
      "authorship_tag": "ABX9TyP6W+RDVdVE4eEBNjJ+LcyX",
      "include_colab_link": true
    },
    "kernelspec": {
      "name": "python3",
      "display_name": "Python 3"
    },
    "language_info": {
      "name": "python"
    }
  },
  "cells": [
    {
      "cell_type": "markdown",
      "metadata": {
        "id": "view-in-github",
        "colab_type": "text"
      },
      "source": [
        "<a href=\"https://colab.research.google.com/github/pratikesh3232/Pyspark_intro/blob/main/pyspark_MlLib.ipynb\" target=\"_parent\"><img src=\"https://colab.research.google.com/assets/colab-badge.svg\" alt=\"Open In Colab\"/></a>"
      ]
    },
    {
      "cell_type": "code",
      "execution_count": null,
      "metadata": {
        "id": "kZ6qTPxLq907"
      },
      "outputs": [],
      "source": [
        "from pyspark.sql import SparkSession\n",
        "from pyspark.ml.feature import VectorAssembler"
      ]
    },
    {
      "cell_type": "code",
      "source": [
        "spk  = SparkSession.builder.appName('test').getOrCreate()"
      ],
      "metadata": {
        "id": "YROW-ADv30OV"
      },
      "execution_count": null,
      "outputs": []
    },
    {
      "cell_type": "code",
      "source": [
        "df = spk.read.csv('/content/sample_data/Big Sales Data.csv', header=True, inferSchema=True)"
      ],
      "metadata": {
        "id": "LiNygmMJ33AJ"
      },
      "execution_count": null,
      "outputs": []
    },
    {
      "cell_type": "code",
      "source": [
        "df.show()"
      ],
      "metadata": {
        "colab": {
          "base_uri": "https://localhost:8080/"
        },
        "id": "ejSUUOEc4Rj3",
        "outputId": "9eaa0b3c-2374-4437-b34c-33abc6aea276"
      },
      "execution_count": null,
      "outputs": [
        {
          "output_type": "stream",
          "name": "stdout",
          "text": [
            "+---------------+-----------+----------------+---------------+------------+--------+-----------------+-------------------------+-----------+--------------------+-----------------+-----------------+\n",
            "|Item_Identifier|Item_Weight|Item_Fat_Content|Item_Visibility|   Item_Type|Item_MRP|Outlet_Identifier|Outlet_Establishment_Year|Outlet_Size|Outlet_Location_Type|      Outlet_Type|Item_Outlet_Sales|\n",
            "+---------------+-----------+----------------+---------------+------------+--------+-----------------+-------------------------+-----------+--------------------+-----------------+-----------------+\n",
            "|          FDT36|       12.3|         Low Fat|    0.111447593|Baking Goods| 33.4874|           OUT049|                     1999|     Medium|              Tier 1|Supermarket Type1|      436.6087212|\n",
            "|          FDT36|       12.3|         Low Fat|    0.111904005|Baking Goods| 33.9874|           OUT017|                     2007|     Medium|              Tier 2|Supermarket Type1|      443.1277212|\n",
            "|          FDT36|       12.3|              LF|    0.111727876|Baking Goods| 33.9874|           OUT018|                     2009|     Medium|              Tier 3|Supermarket Type2|         564.5984|\n",
            "|          FDT36|       12.3|         Low Fat|            0.0|Baking Goods| 34.3874|           OUT019|                     1985|      Small|              Tier 1|    Grocery Store|          1719.37|\n",
            "|          FDP12|        9.8|         Regular|    0.045522854|Baking Goods| 35.0874|           OUT017|                     2007|     Medium|              Tier 2|Supermarket Type1|          352.874|\n",
            "|          FDT36|       12.3|         Low Fat|    0.111274591|Baking Goods| 35.0874|           OUT046|                     1997|      Small|              Tier 1|Supermarket Type1|         458.7362|\n",
            "|          FDQ36|      7.855|         Regular|    0.161413005|Baking Goods| 35.2848|           OUT013|                     1987|       High|              Tier 3|Supermarket Type1|      299.3350723|\n",
            "|          FDT36|      7.855|         Low Fat|    0.110735739|Baking Goods| 35.2874|           OUT027|                     1985|     Medium|              Tier 3|Supermarket Type3|         988.0472|\n",
            "|          FDQ36|      7.855|         Regular|    0.161875063|Baking Goods| 35.6848|           OUT045|                     2002|      Small|              Tier 2|Supermarket Type1|         335.5632|\n",
            "|          FDT36|       12.3|         Low Fat|    0.111500259|Baking Goods| 35.6874|           OUT045|                     2002|      Small|              Tier 2|Supermarket Type1|         846.8976|\n",
            "|          FDP12|        9.8|         Regular|    0.045258247|Baking Goods| 35.9874|           OUT035|                     2004|      Small|              Tier 2|Supermarket Type1|         282.2992|\n",
            "|          FDT36|       12.3|         Low Fat|     0.11125355|Baking Goods| 36.0874|           OUT035|                     2004|      Small|              Tier 2|Supermarket Type1|      483.8237718|\n",
            "|          FDP12|        9.8|         Regular|    0.045358609|Baking Goods| 36.1874|           OUT045|                     2002|      Small|              Tier 2|Supermarket Type1|         423.4488|\n",
            "|          FDQ36|      7.855|         Regular|    0.162205516|Baking Goods| 36.2848|           OUT018|                     2009|     Medium|              Tier 3|Supermarket Type2|        1155.8288|\n",
            "|          FDP12|        9.8|         Regular|    0.045451204|Baking Goods| 36.2874|           OUT018|                     2009|     Medium|              Tier 3|Supermarket Type2|      384.0658416|\n",
            "|          FDP12|      5.765|         Regular|      0.0450476|Baking Goods| 36.4874|           OUT027|                     1985|     Medium|              Tier 3|Supermarket Type3|      809.9743383|\n",
            "|          FDW23|      5.765|         Low Fat|    0.081944045|Baking Goods| 36.7164|           OUT013|                     1987|       High|              Tier 3|Supermarket Type1|         849.5608|\n",
            "|          FDP12|        9.8|         Regular|    0.045337184|Baking Goods| 36.8874|           OUT049|                     1999|     Medium|              Tier 1|Supermarket Type1|         564.5984|\n",
            "|          FDP12|        9.8|         Regular|    0.045266806|Baking Goods| 36.9874|           OUT046|                     1997|      Small|              Tier 1|Supermarket Type1|          705.748|\n",
            "|          FDW23|      5.765|         Low Fat|    0.082178616|Baking Goods| 37.0164|           OUT045|                     2002|      Small|              Tier 2|Supermarket Type1|         540.6296|\n",
            "+---------------+-----------+----------------+---------------+------------+--------+-----------------+-------------------------+-----------+--------------------+-----------------+-----------------+\n",
            "only showing top 20 rows\n",
            "\n"
          ]
        }
      ]
    },
    {
      "cell_type": "code",
      "source": [
        "df.columns"
      ],
      "metadata": {
        "colab": {
          "base_uri": "https://localhost:8080/"
        },
        "id": "WU7m8u074SXY",
        "outputId": "afa2b37f-4957-4035-b797-ce0287af13d5"
      },
      "execution_count": null,
      "outputs": [
        {
          "output_type": "execute_result",
          "data": {
            "text/plain": [
              "['Item_Identifier',\n",
              " 'Item_Weight',\n",
              " 'Item_Fat_Content',\n",
              " 'Item_Visibility',\n",
              " 'Item_Type',\n",
              " 'Item_MRP',\n",
              " 'Outlet_Identifier',\n",
              " 'Outlet_Establishment_Year',\n",
              " 'Outlet_Size',\n",
              " 'Outlet_Location_Type',\n",
              " 'Outlet_Type',\n",
              " 'Item_Outlet_Sales']"
            ]
          },
          "metadata": {},
          "execution_count": 21
        }
      ]
    },
    {
      "cell_type": "markdown",
      "source": [
        "# Selecting and Accessing Data¶"
      ],
      "metadata": {
        "id": "hN3AX2ctsH-n"
      }
    },
    {
      "cell_type": "code",
      "source": [
        "df.Outlet_Type"
      ],
      "metadata": {
        "colab": {
          "base_uri": "https://localhost:8080/"
        },
        "id": "n0oIONBJrygP",
        "outputId": "3ae7e090-1e67-472b-9c8b-10aa4e14292e"
      },
      "execution_count": null,
      "outputs": [
        {
          "output_type": "execute_result",
          "data": {
            "text/plain": [
              "Column<'Outlet_Type'>"
            ]
          },
          "metadata": {},
          "execution_count": 22
        }
      ]
    },
    {
      "cell_type": "code",
      "source": [
        "df.select(df.Outlet_Type).show()"
      ],
      "metadata": {
        "colab": {
          "base_uri": "https://localhost:8080/"
        },
        "id": "ic1Kj2UksXeT",
        "outputId": "01fbc36f-124b-48db-e804-eb705d991731"
      },
      "execution_count": null,
      "outputs": [
        {
          "output_type": "stream",
          "name": "stdout",
          "text": [
            "+-----------------+\n",
            "|      Outlet_Type|\n",
            "+-----------------+\n",
            "|Supermarket Type1|\n",
            "|Supermarket Type1|\n",
            "|Supermarket Type2|\n",
            "|    Grocery Store|\n",
            "|Supermarket Type1|\n",
            "|Supermarket Type1|\n",
            "|Supermarket Type1|\n",
            "|Supermarket Type3|\n",
            "|Supermarket Type1|\n",
            "|Supermarket Type1|\n",
            "|Supermarket Type1|\n",
            "|Supermarket Type1|\n",
            "|Supermarket Type1|\n",
            "|Supermarket Type2|\n",
            "|Supermarket Type2|\n",
            "|Supermarket Type3|\n",
            "|Supermarket Type1|\n",
            "|Supermarket Type1|\n",
            "|Supermarket Type1|\n",
            "|Supermarket Type1|\n",
            "+-----------------+\n",
            "only showing top 20 rows\n",
            "\n"
          ]
        }
      ]
    },
    {
      "cell_type": "code",
      "source": [
        "df.select(\"Outlet_Type\").show()"
      ],
      "metadata": {
        "colab": {
          "base_uri": "https://localhost:8080/"
        },
        "id": "1VQDjewksp3I",
        "outputId": "8a25a586-9127-4087-92fd-f839297868c5"
      },
      "execution_count": null,
      "outputs": [
        {
          "output_type": "stream",
          "name": "stdout",
          "text": [
            "+-----------------+\n",
            "|      Outlet_Type|\n",
            "+-----------------+\n",
            "|Supermarket Type1|\n",
            "|Supermarket Type1|\n",
            "|Supermarket Type2|\n",
            "|    Grocery Store|\n",
            "|Supermarket Type1|\n",
            "|Supermarket Type1|\n",
            "|Supermarket Type1|\n",
            "|Supermarket Type3|\n",
            "|Supermarket Type1|\n",
            "|Supermarket Type1|\n",
            "|Supermarket Type1|\n",
            "|Supermarket Type1|\n",
            "|Supermarket Type1|\n",
            "|Supermarket Type2|\n",
            "|Supermarket Type2|\n",
            "|Supermarket Type3|\n",
            "|Supermarket Type1|\n",
            "|Supermarket Type1|\n",
            "|Supermarket Type1|\n",
            "|Supermarket Type1|\n",
            "+-----------------+\n",
            "only showing top 20 rows\n",
            "\n"
          ]
        }
      ]
    },
    {
      "cell_type": "markdown",
      "source": [
        "## Assign new Column instance."
      ],
      "metadata": {
        "id": "3nvrLwCZsz8t"
      }
    },
    {
      "cell_type": "code",
      "source": [
        "df.withColumn(\"Add_new_col\",df.Item_Weight*2).show()"
      ],
      "metadata": {
        "colab": {
          "base_uri": "https://localhost:8080/"
        },
        "id": "EgIUziH-svUJ",
        "outputId": "8c4f6064-3e42-4e42-df30-88e097c85b28"
      },
      "execution_count": null,
      "outputs": [
        {
          "output_type": "stream",
          "name": "stdout",
          "text": [
            "+---------------+-----------+----------------+---------------+------------+--------+-----------------+-------------------------+-----------+--------------------+-----------------+-----------------+-----------+\n",
            "|Item_Identifier|Item_Weight|Item_Fat_Content|Item_Visibility|   Item_Type|Item_MRP|Outlet_Identifier|Outlet_Establishment_Year|Outlet_Size|Outlet_Location_Type|      Outlet_Type|Item_Outlet_Sales|Add_new_col|\n",
            "+---------------+-----------+----------------+---------------+------------+--------+-----------------+-------------------------+-----------+--------------------+-----------------+-----------------+-----------+\n",
            "|          FDT36|       12.3|         Low Fat|    0.111447593|Baking Goods| 33.4874|           OUT049|                     1999|     Medium|              Tier 1|Supermarket Type1|      436.6087212|       24.6|\n",
            "|          FDT36|       12.3|         Low Fat|    0.111904005|Baking Goods| 33.9874|           OUT017|                     2007|     Medium|              Tier 2|Supermarket Type1|      443.1277212|       24.6|\n",
            "|          FDT36|       12.3|              LF|    0.111727876|Baking Goods| 33.9874|           OUT018|                     2009|     Medium|              Tier 3|Supermarket Type2|         564.5984|       24.6|\n",
            "|          FDT36|       12.3|         Low Fat|            0.0|Baking Goods| 34.3874|           OUT019|                     1985|      Small|              Tier 1|    Grocery Store|          1719.37|       24.6|\n",
            "|          FDP12|        9.8|         Regular|    0.045522854|Baking Goods| 35.0874|           OUT017|                     2007|     Medium|              Tier 2|Supermarket Type1|          352.874|       19.6|\n",
            "|          FDT36|       12.3|         Low Fat|    0.111274591|Baking Goods| 35.0874|           OUT046|                     1997|      Small|              Tier 1|Supermarket Type1|         458.7362|       24.6|\n",
            "|          FDQ36|      7.855|         Regular|    0.161413005|Baking Goods| 35.2848|           OUT013|                     1987|       High|              Tier 3|Supermarket Type1|      299.3350723|      15.71|\n",
            "|          FDT36|      7.855|         Low Fat|    0.110735739|Baking Goods| 35.2874|           OUT027|                     1985|     Medium|              Tier 3|Supermarket Type3|         988.0472|      15.71|\n",
            "|          FDQ36|      7.855|         Regular|    0.161875063|Baking Goods| 35.6848|           OUT045|                     2002|      Small|              Tier 2|Supermarket Type1|         335.5632|      15.71|\n",
            "|          FDT36|       12.3|         Low Fat|    0.111500259|Baking Goods| 35.6874|           OUT045|                     2002|      Small|              Tier 2|Supermarket Type1|         846.8976|       24.6|\n",
            "|          FDP12|        9.8|         Regular|    0.045258247|Baking Goods| 35.9874|           OUT035|                     2004|      Small|              Tier 2|Supermarket Type1|         282.2992|       19.6|\n",
            "|          FDT36|       12.3|         Low Fat|     0.11125355|Baking Goods| 36.0874|           OUT035|                     2004|      Small|              Tier 2|Supermarket Type1|      483.8237718|       24.6|\n",
            "|          FDP12|        9.8|         Regular|    0.045358609|Baking Goods| 36.1874|           OUT045|                     2002|      Small|              Tier 2|Supermarket Type1|         423.4488|       19.6|\n",
            "|          FDQ36|      7.855|         Regular|    0.162205516|Baking Goods| 36.2848|           OUT018|                     2009|     Medium|              Tier 3|Supermarket Type2|        1155.8288|      15.71|\n",
            "|          FDP12|        9.8|         Regular|    0.045451204|Baking Goods| 36.2874|           OUT018|                     2009|     Medium|              Tier 3|Supermarket Type2|      384.0658416|       19.6|\n",
            "|          FDP12|      5.765|         Regular|      0.0450476|Baking Goods| 36.4874|           OUT027|                     1985|     Medium|              Tier 3|Supermarket Type3|      809.9743383|      11.53|\n",
            "|          FDW23|      5.765|         Low Fat|    0.081944045|Baking Goods| 36.7164|           OUT013|                     1987|       High|              Tier 3|Supermarket Type1|         849.5608|      11.53|\n",
            "|          FDP12|        9.8|         Regular|    0.045337184|Baking Goods| 36.8874|           OUT049|                     1999|     Medium|              Tier 1|Supermarket Type1|         564.5984|       19.6|\n",
            "|          FDP12|        9.8|         Regular|    0.045266806|Baking Goods| 36.9874|           OUT046|                     1997|      Small|              Tier 1|Supermarket Type1|          705.748|       19.6|\n",
            "|          FDW23|      5.765|         Low Fat|    0.082178616|Baking Goods| 37.0164|           OUT045|                     2002|      Small|              Tier 2|Supermarket Type1|         540.6296|      11.53|\n",
            "+---------------+-----------+----------------+---------------+------------+--------+-----------------+-------------------------+-----------+--------------------+-----------------+-----------------+-----------+\n",
            "only showing top 20 rows\n",
            "\n"
          ]
        }
      ]
    },
    {
      "cell_type": "markdown",
      "source": [
        "## To select a subset of rows, use DataFrame.filter()"
      ],
      "metadata": {
        "id": "SueU4cG7tYJh"
      }
    },
    {
      "cell_type": "code",
      "source": [
        "df.filter((df.Item_Weight>1.0) & (df.Item_Fat_Content == \"Low Fat\")).show()"
      ],
      "metadata": {
        "colab": {
          "base_uri": "https://localhost:8080/"
        },
        "id": "bMYS0HzitRDi",
        "outputId": "c9450869-e2bb-457c-f52d-ae6d8b808873"
      },
      "execution_count": null,
      "outputs": [
        {
          "output_type": "stream",
          "name": "stdout",
          "text": [
            "+---------------+-----------+----------------+---------------+------------+--------+-----------------+-------------------------+-----------+--------------------+-----------------+-----------------+\n",
            "|Item_Identifier|Item_Weight|Item_Fat_Content|Item_Visibility|   Item_Type|Item_MRP|Outlet_Identifier|Outlet_Establishment_Year|Outlet_Size|Outlet_Location_Type|      Outlet_Type|Item_Outlet_Sales|\n",
            "+---------------+-----------+----------------+---------------+------------+--------+-----------------+-------------------------+-----------+--------------------+-----------------+-----------------+\n",
            "|          FDT36|       12.3|         Low Fat|    0.111447593|Baking Goods| 33.4874|           OUT049|                     1999|     Medium|              Tier 1|Supermarket Type1|      436.6087212|\n",
            "|          FDT36|       12.3|         Low Fat|    0.111904005|Baking Goods| 33.9874|           OUT017|                     2007|     Medium|              Tier 2|Supermarket Type1|      443.1277212|\n",
            "|          FDT36|       12.3|         Low Fat|            0.0|Baking Goods| 34.3874|           OUT019|                     1985|      Small|              Tier 1|    Grocery Store|          1719.37|\n",
            "|          FDT36|       12.3|         Low Fat|    0.111274591|Baking Goods| 35.0874|           OUT046|                     1997|      Small|              Tier 1|Supermarket Type1|         458.7362|\n",
            "|          FDT36|      7.855|         Low Fat|    0.110735739|Baking Goods| 35.2874|           OUT027|                     1985|     Medium|              Tier 3|Supermarket Type3|         988.0472|\n",
            "|          FDT36|       12.3|         Low Fat|    0.111500259|Baking Goods| 35.6874|           OUT045|                     2002|      Small|              Tier 2|Supermarket Type1|         846.8976|\n",
            "|          FDT36|       12.3|         Low Fat|     0.11125355|Baking Goods| 36.0874|           OUT035|                     2004|      Small|              Tier 2|Supermarket Type1|      483.8237718|\n",
            "|          FDW23|      5.765|         Low Fat|    0.081944045|Baking Goods| 36.7164|           OUT013|                     1987|       High|              Tier 3|Supermarket Type1|         849.5608|\n",
            "|          FDW23|      5.765|         Low Fat|    0.082178616|Baking Goods| 37.0164|           OUT045|                     2002|      Small|              Tier 2|Supermarket Type1|         540.6296|\n",
            "|          FDW23|      5.765|         Low Fat|      0.0821398|Baking Goods| 37.2164|           OUT049|                     1999|     Medium|              Tier 1|Supermarket Type1|          579.246|\n",
            "|          FDT36|       12.3|         Low Fat|    0.186250852|Baking Goods| 37.2874|           OUT010|                     1998|     Medium|              Tier 3|    Grocery Store|          176.437|\n",
            "|          FDT36|       12.3|         Low Fat|            0.0|Baking Goods| 37.2874|           OUT013|                     1987|       High|              Tier 3|Supermarket Type1|          705.748|\n",
            "|          FDW23|       12.3|         Low Fat|    0.143592939|Baking Goods| 37.3164|           OUT019|                     1985|      Small|              Tier 1|    Grocery Store|          38.6164|\n",
            "|          FDW23|      5.765|         Low Fat|    0.082012293|Baking Goods| 37.5164|           OUT046|                     1997|      Small|              Tier 1|Supermarket Type1|         656.4788|\n",
            "|          FDW23|      5.765|         Low Fat|    0.081615145|Baking Goods| 38.6164|           OUT027|                     1985|     Medium|              Tier 3|Supermarket Type3|      473.1523788|\n",
            "|          FDW23|      5.765|         Low Fat|    0.082476188|Baking Goods| 38.8164|           OUT017|                     2007|     Medium|              Tier 2|Supermarket Type1|      239.4409042|\n",
            "|          FDW23|      5.765|         Low Fat|    0.082346376|Baking Goods| 38.8164|           OUT018|                     2009|     Medium|              Tier 3|Supermarket Type2|      237.2031388|\n",
            "|          FDW23|      5.765|         Low Fat|    0.081996785|Baking Goods| 40.1164|           OUT035|                     2004|      Small|              Tier 2|Supermarket Type1|         540.6296|\n",
            "|          FDO60|       20.0|         Low Fat|    0.057527544|Baking Goods| 43.1086|           OUT010|                     1998|     Medium|              Tier 3|    Grocery Store|          89.2172|\n",
            "|          FDO60|       20.0|         Low Fat|    0.034203092|Baking Goods| 43.3086|           OUT027|                     1985|     Medium|              Tier 3|Supermarket Type3|         624.5204|\n",
            "+---------------+-----------+----------------+---------------+------------+--------+-----------------+-------------------------+-----------+--------------------+-----------------+-----------------+\n",
            "only showing top 20 rows\n",
            "\n"
          ]
        }
      ]
    },
    {
      "cell_type": "markdown",
      "source": [
        "# Grouping Data"
      ],
      "metadata": {
        "id": "ucqM4QXkt6NC"
      }
    },
    {
      "cell_type": "markdown",
      "source": [
        "**PySpark DataFrame also provides a way of handling grouped data by using the common approach, split-apply-combine strategy. It groups the data by a certain condition applies a function to each group and then combines them back to the DataFrame.**"
      ],
      "metadata": {
        "id": "pmo2pOb3uRYk"
      }
    },
    {
      "cell_type": "code",
      "source": [
        "df.groupBy(\"Item_Fat_Content\").count().show()"
      ],
      "metadata": {
        "colab": {
          "base_uri": "https://localhost:8080/"
        },
        "id": "PpBUW8GRtfBA",
        "outputId": "86118438-303d-410a-fb20-d0ab8df2af9d"
      },
      "execution_count": null,
      "outputs": [
        {
          "output_type": "stream",
          "name": "stdout",
          "text": [
            "+----------------+-----+\n",
            "|Item_Fat_Content|count|\n",
            "+----------------+-----+\n",
            "|         low fat|  178|\n",
            "|         Low Fat| 8485|\n",
            "|              LF|  522|\n",
            "|         Regular| 4824|\n",
            "|             reg|  195|\n",
            "+----------------+-----+\n",
            "\n"
          ]
        }
      ]
    },
    {
      "cell_type": "code",
      "source": [
        "df.groupBy(\"Item_Fat_Content\").avg().show()"
      ],
      "metadata": {
        "colab": {
          "base_uri": "https://localhost:8080/"
        },
        "id": "KhgSU-dZubEA",
        "outputId": "56235b42-9de2-4594-8ed7-d48874cad3dc"
      },
      "execution_count": null,
      "outputs": [
        {
          "output_type": "stream",
          "name": "stdout",
          "text": [
            "+----------------+------------------+--------------------+------------------+------------------------------+----------------------+\n",
            "|Item_Fat_Content|  avg(Item_Weight)|avg(Item_Visibility)|     avg(Item_MRP)|avg(Outlet_Establishment_Year)|avg(Item_Outlet_Sales)|\n",
            "+----------------+------------------+--------------------+------------------+------------------------------+----------------------+\n",
            "|         low fat|12.161865671641788| 0.06726006615168541|137.12802359550557|            1996.0393258426966|    2198.8726229106746|\n",
            "|         Low Fat|12.931448875689632| 0.06398324064124945|141.45435670005895|            1997.8800235710078|     2198.114992464652|\n",
            "|              LF|12.697645011600935|  0.0678887477490421|138.26792490421445|            1997.6245210727968|     2049.586111552299|\n",
            "|         Regular|12.574764162715026| 0.06905577966314269|140.84748843283552|             1997.810945273632|    2182.5446078800956|\n",
            "|             reg|12.597034883720925| 0.06851380582051281|136.21308307692308|            1998.3589743589744|    2085.8200638507697|\n",
            "+----------------+------------------+--------------------+------------------+------------------------------+----------------------+\n",
            "\n"
          ]
        }
      ]
    },
    {
      "cell_type": "markdown",
      "source": [
        "# Getting Data In/Out|"
      ],
      "metadata": {
        "id": "ltmif5Q-w_4D"
      }
    },
    {
      "cell_type": "code",
      "source": [
        "df.write.csv('/usr/Big Sales Data3.csv', header=True)\n",
        "spk.read.csv('/content/sample_data/Big Sales Data.csv', header=True).show()"
      ],
      "metadata": {
        "colab": {
          "base_uri": "https://localhost:8080/"
        },
        "collapsed": true,
        "id": "UuXXO0M7wuDf",
        "outputId": "ea8c27eb-0e26-47e5-a552-00eeb44f8b60"
      },
      "execution_count": null,
      "outputs": [
        {
          "output_type": "stream",
          "name": "stdout",
          "text": [
            "+---------------+-----------+----------------+---------------+------------+--------+-----------------+-------------------------+-----------+--------------------+-----------------+-----------------+\n",
            "|Item_Identifier|Item_Weight|Item_Fat_Content|Item_Visibility|   Item_Type|Item_MRP|Outlet_Identifier|Outlet_Establishment_Year|Outlet_Size|Outlet_Location_Type|      Outlet_Type|Item_Outlet_Sales|\n",
            "+---------------+-----------+----------------+---------------+------------+--------+-----------------+-------------------------+-----------+--------------------+-----------------+-----------------+\n",
            "|          FDT36|       12.3|         Low Fat|    0.111447593|Baking Goods| 33.4874|           OUT049|                     1999|     Medium|              Tier 1|Supermarket Type1|      436.6087212|\n",
            "|          FDT36|       12.3|         Low Fat|    0.111904005|Baking Goods| 33.9874|           OUT017|                     2007|     Medium|              Tier 2|Supermarket Type1|      443.1277212|\n",
            "|          FDT36|       12.3|              LF|    0.111727876|Baking Goods| 33.9874|           OUT018|                     2009|     Medium|              Tier 3|Supermarket Type2|         564.5984|\n",
            "|          FDT36|       12.3|         Low Fat|              0|Baking Goods| 34.3874|           OUT019|                     1985|      Small|              Tier 1|    Grocery Store|          1719.37|\n",
            "|          FDP12|        9.8|         Regular|    0.045522854|Baking Goods| 35.0874|           OUT017|                     2007|     Medium|              Tier 2|Supermarket Type1|          352.874|\n",
            "|          FDT36|       12.3|         Low Fat|    0.111274591|Baking Goods| 35.0874|           OUT046|                     1997|      Small|              Tier 1|Supermarket Type1|         458.7362|\n",
            "|          FDQ36|      7.855|         Regular|    0.161413005|Baking Goods| 35.2848|           OUT013|                     1987|       High|              Tier 3|Supermarket Type1|      299.3350723|\n",
            "|          FDT36|      7.855|         Low Fat|    0.110735739|Baking Goods| 35.2874|           OUT027|                     1985|     Medium|              Tier 3|Supermarket Type3|         988.0472|\n",
            "|          FDQ36|      7.855|         Regular|    0.161875063|Baking Goods| 35.6848|           OUT045|                     2002|      Small|              Tier 2|Supermarket Type1|         335.5632|\n",
            "|          FDT36|       12.3|         Low Fat|    0.111500259|Baking Goods| 35.6874|           OUT045|                     2002|      Small|              Tier 2|Supermarket Type1|         846.8976|\n",
            "|          FDP12|        9.8|         Regular|    0.045258247|Baking Goods| 35.9874|           OUT035|                     2004|      Small|              Tier 2|Supermarket Type1|         282.2992|\n",
            "|          FDT36|       12.3|         Low Fat|     0.11125355|Baking Goods| 36.0874|           OUT035|                     2004|      Small|              Tier 2|Supermarket Type1|      483.8237718|\n",
            "|          FDP12|        9.8|         Regular|    0.045358609|Baking Goods| 36.1874|           OUT045|                     2002|      Small|              Tier 2|Supermarket Type1|         423.4488|\n",
            "|          FDQ36|      7.855|         Regular|    0.162205516|Baking Goods| 36.2848|           OUT018|                     2009|     Medium|              Tier 3|Supermarket Type2|        1155.8288|\n",
            "|          FDP12|        9.8|         Regular|    0.045451204|Baking Goods| 36.2874|           OUT018|                     2009|     Medium|              Tier 3|Supermarket Type2|      384.0658416|\n",
            "|          FDP12|      5.765|         Regular|      0.0450476|Baking Goods| 36.4874|           OUT027|                     1985|     Medium|              Tier 3|Supermarket Type3|      809.9743383|\n",
            "|          FDW23|      5.765|         Low Fat|    0.081944045|Baking Goods| 36.7164|           OUT013|                     1987|       High|              Tier 3|Supermarket Type1|         849.5608|\n",
            "|          FDP12|        9.8|         Regular|    0.045337184|Baking Goods| 36.8874|           OUT049|                     1999|     Medium|              Tier 1|Supermarket Type1|         564.5984|\n",
            "|          FDP12|        9.8|         Regular|    0.045266806|Baking Goods| 36.9874|           OUT046|                     1997|      Small|              Tier 1|Supermarket Type1|          705.748|\n",
            "|          FDW23|      5.765|         Low Fat|    0.082178616|Baking Goods| 37.0164|           OUT045|                     2002|      Small|              Tier 2|Supermarket Type1|         540.6296|\n",
            "+---------------+-----------+----------------+---------------+------------+--------+-----------------+-------------------------+-----------+--------------------+-----------------+-----------------+\n",
            "only showing top 20 rows\n",
            "\n"
          ]
        }
      ]
    },
    {
      "cell_type": "markdown",
      "source": [
        "# API Reference"
      ],
      "metadata": {
        "id": "8P_QNwpw2gQT"
      }
    },
    {
      "cell_type": "markdown",
      "source": [
        "**https://spark.apache.org/docs/latest/api/python/reference/index.html**"
      ],
      "metadata": {
        "id": "NxHPxkc42m2b"
      }
    },
    {
      "cell_type": "markdown",
      "source": [
        "## Functions"
      ],
      "metadata": {
        "id": "KB27CpOi2uSc"
      }
    },
    {
      "cell_type": "code",
      "source": [
        "from pyspark.sql.functions import slice as pyspark_slice\n",
        "\n",
        "df1 = spk.createDataFrame([([1, 2, 3],), ([4, 5,4,5,6],)], ['x'])\n",
        "\n",
        "# Use pyspark.sql.functions.slice to select elements from the array column\n",
        "df1.select(pyspark_slice(df1.x, 2, 3)).collect() # Slice from index 2 with length 3"
      ],
      "metadata": {
        "colab": {
          "base_uri": "https://localhost:8080/"
        },
        "id": "aXFoM5bP2wN4",
        "outputId": "3113d76b-975c-4cf3-df01-ff42bd9f4c31"
      },
      "execution_count": null,
      "outputs": [
        {
          "output_type": "execute_result",
          "data": {
            "text/plain": [
              "[Row(slice(x, 2, 3)=[2, 3]), Row(slice(x, 2, 3)=[5, 4, 5])]"
            ]
          },
          "metadata": {},
          "execution_count": 32
        }
      ]
    },
    {
      "cell_type": "code",
      "source": [
        "df1.show()"
      ],
      "metadata": {
        "colab": {
          "base_uri": "https://localhost:8080/"
        },
        "id": "eVSljQEI0qdN",
        "outputId": "ca6710e8-29ad-489c-94fa-522cc8c3bd83"
      },
      "execution_count": null,
      "outputs": [
        {
          "output_type": "stream",
          "name": "stdout",
          "text": [
            "+---------------+\n",
            "|              x|\n",
            "+---------------+\n",
            "|      [1, 2, 3]|\n",
            "|[4, 5, 4, 5, 6]|\n",
            "+---------------+\n",
            "\n"
          ]
        }
      ]
    },
    {
      "cell_type": "code",
      "source": [
        "from pyspark.sql.functions import concat\n",
        "df = spk.createDataFrame([('abcd','123')], ['s', 'd'])\n",
        "df.show()\n",
        "df = df.select(concat(df.s, df.d).alias('s')).collect()\n"
      ],
      "metadata": {
        "colab": {
          "base_uri": "https://localhost:8080/"
        },
        "id": "CQ8L8drG4rCF",
        "outputId": "a81b97cd-de31-46ad-c5b7-d6098d4e8a4c"
      },
      "execution_count": null,
      "outputs": [
        {
          "output_type": "stream",
          "name": "stdout",
          "text": [
            "+----+---+\n",
            "|   s|  d|\n",
            "+----+---+\n",
            "|abcd|123|\n",
            "+----+---+\n",
            "\n"
          ]
        }
      ]
    },
    {
      "cell_type": "code",
      "source": [
        "df"
      ],
      "metadata": {
        "colab": {
          "base_uri": "https://localhost:8080/"
        },
        "id": "lRTpVxJL7r3T",
        "outputId": "b9db0f8c-04e4-492c-b984-3b65da790a68"
      },
      "execution_count": null,
      "outputs": [
        {
          "output_type": "execute_result",
          "data": {
            "text/plain": [
              "[Row(s='abcd123')]"
            ]
          },
          "metadata": {},
          "execution_count": 35
        }
      ]
    },
    {
      "cell_type": "markdown",
      "source": [
        "# Basic Statistics"
      ],
      "metadata": {
        "id": "8Ti-Sr_s_u0r"
      }
    },
    {
      "cell_type": "markdown",
      "source": [
        "## Correlation"
      ],
      "metadata": {
        "id": "ORNYJq7r_xoY"
      }
    },
    {
      "cell_type": "code",
      "source": [
        "from pyspark.ml.linalg import Vectors\n",
        "from pyspark.ml.stat import Correlation\n",
        "\n",
        "data = [(Vectors.sparse(4, [(0, 1.0), (3, -2.0)]),),\n",
        "        (Vectors.dense([4.0, 5.0, 0.0, 3.0]),),\n",
        "        (Vectors.dense([6.0, 7.0, 0.0, 8.0]),),\n",
        "        (Vectors.sparse(4, [(0, 9.0), (3, 1.0)]),)]\n",
        "df = spk.createDataFrame(data, [\"features\"])\n",
        "\n",
        "r1 = Correlation.corr(df, \"features\").head()\n",
        "\n",
        "\n",
        "print(\"Pearson correlation matrix:\\n\" + str(r1[0]))\n",
        "\n",
        "r2 = Correlation.corr(df, \"features\", \"spearman\").head()\n",
        "\n",
        "\n",
        "print(\"Spearman correlation matrix:\\n\" + str(r2[0]))"
      ],
      "metadata": {
        "colab": {
          "base_uri": "https://localhost:8080/"
        },
        "id": "FNV35vDE9HPS",
        "outputId": "2774da76-dbca-44cb-a2b0-ea2aec355df4"
      },
      "execution_count": null,
      "outputs": [
        {
          "output_type": "stream",
          "name": "stdout",
          "text": [
            "Pearson correlation matrix:\n",
            "DenseMatrix([[1.        , 0.05564149,        nan, 0.40047142],\n",
            "             [0.05564149, 1.        ,        nan, 0.91359586],\n",
            "             [       nan,        nan, 1.        ,        nan],\n",
            "             [0.40047142, 0.91359586,        nan, 1.        ]])\n",
            "Spearman correlation matrix:\n",
            "DenseMatrix([[1.        , 0.10540926,        nan, 0.4       ],\n",
            "             [0.10540926, 1.        ,        nan, 0.9486833 ],\n",
            "             [       nan,        nan, 1.        ,        nan],\n",
            "             [0.4       , 0.9486833 ,        nan, 1.        ]])\n"
          ]
        }
      ]
    },
    {
      "cell_type": "markdown",
      "source": [
        "# ML lib (https://spark.apache.org/docs/latest/ml-features.html#tf-idf)"
      ],
      "metadata": {
        "id": "D4QzvzSFCz_k"
      }
    },
    {
      "cell_type": "markdown",
      "source": [
        "# Word2Vec"
      ],
      "metadata": {
        "id": "W5FuM1HKBd78"
      }
    },
    {
      "cell_type": "code",
      "source": [
        "from pyspark.ml.feature import Word2Vec"
      ],
      "metadata": {
        "id": "ujA23XH9Bdb8"
      },
      "execution_count": null,
      "outputs": []
    },
    {
      "cell_type": "code",
      "source": [
        "#Input data: Each row is a bag of words from a sentence or document.\n",
        "documentDF = spk.createDataFrame([\n",
        "    (\"Hi I heard about Spark\".split(\" \"), ),\n",
        "    (\"I wish Java could use case classes\".split(\" \"), ),\n",
        "    (\"Logistic regression models are neat\".split(\" \"), )\n",
        "], [\"text\"])"
      ],
      "metadata": {
        "id": "KPQtwUU2Bky4"
      },
      "execution_count": null,
      "outputs": []
    },
    {
      "cell_type": "code",
      "source": [
        "documentDF.show()"
      ],
      "metadata": {
        "colab": {
          "base_uri": "https://localhost:8080/"
        },
        "id": "oK7tNJVkBo8Y",
        "outputId": "c44dfa95-bf92-4688-8ef9-414717a4907a"
      },
      "execution_count": null,
      "outputs": [
        {
          "output_type": "stream",
          "name": "stdout",
          "text": [
            "+--------------------+\n",
            "|                text|\n",
            "+--------------------+\n",
            "|[Hi, I, heard, ab...|\n",
            "|[I, wish, Java, c...|\n",
            "|[Logistic, regres...|\n",
            "+--------------------+\n",
            "\n"
          ]
        }
      ]
    },
    {
      "cell_type": "code",
      "source": [
        "# Learn a mapping from words to Vectors.\n",
        "word2Vec = Word2Vec(vectorSize=3, minCount=0, inputCol=\"text\", outputCol=\"result\")\n",
        "model = word2Vec.fit(documentDF)"
      ],
      "metadata": {
        "id": "EBTcwoqsB4Lg"
      },
      "execution_count": null,
      "outputs": []
    },
    {
      "cell_type": "code",
      "source": [
        "result = model.transform(documentDF)"
      ],
      "metadata": {
        "id": "LiUIumWSCDrb"
      },
      "execution_count": null,
      "outputs": []
    },
    {
      "cell_type": "code",
      "source": [
        "result.show()"
      ],
      "metadata": {
        "colab": {
          "base_uri": "https://localhost:8080/"
        },
        "id": "vdAT2uK4CEL4",
        "outputId": "9834107f-b42e-4a51-d3d4-4db95799fe60"
      },
      "execution_count": null,
      "outputs": [
        {
          "output_type": "stream",
          "name": "stdout",
          "text": [
            "+--------------------+--------------------+\n",
            "|                text|              result|\n",
            "+--------------------+--------------------+\n",
            "|[Hi, I, heard, ab...|[0.02088536694645...|\n",
            "|[I, wish, Java, c...|[-0.0270776738678...|\n",
            "|[Logistic, regres...|[0.03027330562472...|\n",
            "+--------------------+--------------------+\n",
            "\n"
          ]
        }
      ]
    },
    {
      "cell_type": "code",
      "source": [
        "for row in result.collect():\n",
        "    text, vector = row\n",
        "    print(\"Text: [%s] => \\nVector: %s\\n\" % (\", \".join(text), str(vector)))"
      ],
      "metadata": {
        "colab": {
          "base_uri": "https://localhost:8080/"
        },
        "id": "ktCqVeB2CeWx",
        "outputId": "ddcaa461-5d03-45f2-ee95-9b052746141c"
      },
      "execution_count": null,
      "outputs": [
        {
          "output_type": "stream",
          "name": "stdout",
          "text": [
            "Text: [Hi, I, heard, about, Spark] => \n",
            "Vector: [0.020885366946458817,-0.05819434002187336,-0.03002806007862091]\n",
            "\n",
            "Text: [I, wish, Java, could, use, case, classes] => \n",
            "Vector: [-0.027077673867877038,-0.07107515899198395,0.0086154043674469]\n",
            "\n",
            "Text: [Logistic, regression, models, are, neat] => \n",
            "Vector: [0.030273305624723437,0.046297441329807044,0.1026412695646286]\n",
            "\n"
          ]
        }
      ]
    },
    {
      "cell_type": "markdown",
      "source": [
        "## Tokenizer"
      ],
      "metadata": {
        "id": "-p9Hf7Nd5GBL"
      }
    },
    {
      "cell_type": "code",
      "source": [
        "from pyspark.ml.feature import Tokenizer"
      ],
      "metadata": {
        "id": "U9IoBjxU5Hpp"
      },
      "execution_count": null,
      "outputs": []
    },
    {
      "cell_type": "code",
      "source": [
        "sentenceDataFrame = spk.createDataFrame([\n",
        "    (0, \"Hi I heard about Spark\"),\n",
        "    (1, \"I wish Java could use case classes\"),\n",
        "    (2, \"Logistic,regression,models,are,neat\")\n",
        "], [\"id\", \"sentence\"])"
      ],
      "metadata": {
        "id": "8bzR6Hc565-E"
      },
      "execution_count": null,
      "outputs": []
    },
    {
      "cell_type": "code",
      "source": [
        "tokenizer = Tokenizer(inputCol=\"sentence\", outputCol=\"words\")\n",
        "tokenized = tokenizer.transform(sentenceDataFrame)"
      ],
      "metadata": {
        "id": "nmigf1DA7AvB"
      },
      "execution_count": null,
      "outputs": []
    },
    {
      "cell_type": "code",
      "source": [
        "tokenized.show()"
      ],
      "metadata": {
        "colab": {
          "base_uri": "https://localhost:8080/"
        },
        "id": "U-lYvDNt7DnI",
        "outputId": "64f5b5c6-5d54-4103-ac55-891fcd66f6c4"
      },
      "execution_count": null,
      "outputs": [
        {
          "output_type": "stream",
          "name": "stdout",
          "text": [
            "+---+--------------------+--------------------+\n",
            "| id|            sentence|               words|\n",
            "+---+--------------------+--------------------+\n",
            "|  0|Hi I heard about ...|[hi, i, heard, ab...|\n",
            "|  1|I wish Java could...|[i, wish, java, c...|\n",
            "|  2|Logistic,regressi...|[logistic,regress...|\n",
            "+---+--------------------+--------------------+\n",
            "\n"
          ]
        }
      ]
    },
    {
      "cell_type": "code",
      "source": [
        "for row in tokenized.collect():\n",
        "    id, text, words = row # Unpack the row into three variables: id, text, and words\n",
        "    print(\"ID: [%s], Text: [%s] => \\nwords: [%s]\\n\" % (id, text, str(words))) # Print the ID, Text, and words"
      ],
      "metadata": {
        "colab": {
          "base_uri": "https://localhost:8080/"
        },
        "id": "8PY5ufZW7Ty4",
        "outputId": "140502eb-d607-49bf-f7e2-54b721855033"
      },
      "execution_count": null,
      "outputs": [
        {
          "output_type": "stream",
          "name": "stdout",
          "text": [
            "ID: [0], Text: [Hi I heard about Spark] => \n",
            "words: [['hi', 'i', 'heard', 'about', 'spark']]\n",
            "\n",
            "ID: [1], Text: [I wish Java could use case classes] => \n",
            "words: [['i', 'wish', 'java', 'could', 'use', 'case', 'classes']]\n",
            "\n",
            "ID: [2], Text: [Logistic,regression,models,are,neat] => \n",
            "words: [['logistic,regression,models,are,neat']]\n",
            "\n"
          ]
        }
      ]
    },
    {
      "cell_type": "markdown",
      "source": [
        "## StopWordsRemover"
      ],
      "metadata": {
        "id": "m33duxuH8hZT"
      }
    },
    {
      "cell_type": "code",
      "source": [
        "from pyspark.ml.feature import StopWordsRemover"
      ],
      "metadata": {
        "id": "3SQW36O97n6J"
      },
      "execution_count": null,
      "outputs": []
    },
    {
      "cell_type": "code",
      "source": [
        "stop_word = StopWordsRemover(inputCol=\"words\", outputCol=\"filtered\")\n",
        "df = stop_word.transform(tokenized)"
      ],
      "metadata": {
        "id": "c0QMBKyo9CGv"
      },
      "execution_count": null,
      "outputs": []
    },
    {
      "cell_type": "code",
      "source": [
        "df.show()"
      ],
      "metadata": {
        "colab": {
          "base_uri": "https://localhost:8080/"
        },
        "id": "dZFRiOyJ9cEQ",
        "outputId": "acff8465-22c9-4187-8a4b-9bcd6c472b93"
      },
      "execution_count": null,
      "outputs": [
        {
          "output_type": "stream",
          "name": "stdout",
          "text": [
            "+---+--------------------+--------------------+--------------------+\n",
            "| id|            sentence|               words|            filtered|\n",
            "+---+--------------------+--------------------+--------------------+\n",
            "|  0|Hi I heard about ...|[hi, i, heard, ab...|  [hi, heard, spark]|\n",
            "|  1|I wish Java could...|[i, wish, java, c...|[wish, java, use,...|\n",
            "|  2|Logistic,regressi...|[logistic,regress...|[logistic,regress...|\n",
            "+---+--------------------+--------------------+--------------------+\n",
            "\n"
          ]
        }
      ]
    },
    {
      "cell_type": "code",
      "source": [
        "for row in df.collect():\n",
        "    id, text, words, filter = row # Unpack the row into three variables: id, text, and words\n",
        "    print(\"ID: [%s], Text: [%s] => \\nwords: [%s]\\nFiltered: [%s]\" % (id, text, str(words),str(filter)))\n",
        "    print(\"============================\")"
      ],
      "metadata": {
        "colab": {
          "base_uri": "https://localhost:8080/"
        },
        "id": "j4f61i8_9oGn",
        "outputId": "ed7ff2ee-80d9-428e-9c25-423b8b12b8c0"
      },
      "execution_count": null,
      "outputs": [
        {
          "output_type": "stream",
          "name": "stdout",
          "text": [
            "ID: [0], Text: [Hi I heard about Spark] => \n",
            "words: [['hi', 'i', 'heard', 'about', 'spark']]\n",
            "Filtered: [['hi', 'heard', 'spark']]\n",
            "============================\n",
            "ID: [1], Text: [I wish Java could use case classes] => \n",
            "words: [['i', 'wish', 'java', 'could', 'use', 'case', 'classes']]\n",
            "Filtered: [['wish', 'java', 'use', 'case', 'classes']]\n",
            "============================\n",
            "ID: [2], Text: [Logistic,regression,models,are,neat] => \n",
            "words: [['logistic,regression,models,are,neat']]\n",
            "Filtered: [['logistic,regression,models,are,neat']]\n",
            "============================\n"
          ]
        }
      ]
    },
    {
      "cell_type": "markdown",
      "source": [
        "# Word2Vec"
      ],
      "metadata": {
        "id": "ncr-rm7r-sGn"
      }
    },
    {
      "cell_type": "code",
      "source": [
        "from pyspark.ml.feature import Word2Vec"
      ],
      "metadata": {
        "id": "eRtwiU_W-sGo"
      },
      "execution_count": null,
      "outputs": []
    },
    {
      "cell_type": "code",
      "source": [
        "# Learn a mapping from words to Vectors.\n",
        "word2Vec = Word2Vec(vectorSize=3, minCount=0, inputCol=\"filtered\", outputCol=\"result\")\n",
        "model = word2Vec.fit(df)"
      ],
      "metadata": {
        "id": "tgobPu4F-sGo"
      },
      "execution_count": null,
      "outputs": []
    },
    {
      "cell_type": "code",
      "source": [
        "df = model.transform(df)"
      ],
      "metadata": {
        "id": "YoQKd_44-sGp"
      },
      "execution_count": null,
      "outputs": []
    },
    {
      "cell_type": "code",
      "source": [
        "df.show()"
      ],
      "metadata": {
        "colab": {
          "base_uri": "https://localhost:8080/"
        },
        "outputId": "f76f892b-90bb-4b83-e997-326f829ef5bd",
        "id": "Df_2D4Mg-sGq"
      },
      "execution_count": null,
      "outputs": [
        {
          "output_type": "stream",
          "name": "stdout",
          "text": [
            "+---+--------------------+--------------------+--------------------+--------------------+\n",
            "| id|            sentence|               words|            filtered|              result|\n",
            "+---+--------------------+--------------------+--------------------+--------------------+\n",
            "|  0|Hi I heard about ...|[hi, i, heard, ab...|  [hi, heard, spark]|[-0.0205548585702...|\n",
            "|  1|I wish Java could...|[i, wish, java, c...|[wish, java, use,...|[0.00869127139449...|\n",
            "|  2|Logistic,regressi...|[logistic,regress...|[logistic,regress...|[-0.0058325133286...|\n",
            "+---+--------------------+--------------------+--------------------+--------------------+\n",
            "\n"
          ]
        }
      ]
    },
    {
      "cell_type": "code",
      "source": [
        "for row in df.collect():\n",
        "    id,sentence,words,filtered,result = row\n",
        "    print(\"ID: [%s], Text: [%s] => \\nwords: [%s]\\nFiltered: [%s]\\nresult: [%s]\" % (id, sentence, str(words),str(filtered),result))\n",
        "    print(\"============================\")"
      ],
      "metadata": {
        "colab": {
          "base_uri": "https://localhost:8080/"
        },
        "id": "4Yoht3uZ_Ao-",
        "outputId": "f711791d-b984-4499-8583-e203208fdded"
      },
      "execution_count": null,
      "outputs": [
        {
          "output_type": "stream",
          "name": "stdout",
          "text": [
            "ID: [0], Text: [Hi I heard about Spark] => \n",
            "words: [['hi', 'i', 'heard', 'about', 'spark']]\n",
            "Filtered: [['hi', 'heard', 'spark']]\n",
            "result: [[-0.020554858570297558,0.0015943112472693124,0.09813929721713066]]\n",
            "============================\n",
            "ID: [1], Text: [I wish Java could use case classes] => \n",
            "words: [['i', 'wish', 'java', 'could', 'use', 'case', 'classes']]\n",
            "Filtered: [['wish', 'java', 'use', 'case', 'classes']]\n",
            "result: [[0.008691271394491195,-0.0520847249776125,0.016328829526901244]]\n",
            "============================\n",
            "ID: [2], Text: [Logistic,regression,models,are,neat] => \n",
            "words: [['logistic,regression,models,are,neat']]\n",
            "Filtered: [['logistic,regression,models,are,neat']]\n",
            "result: [[-0.005832513328641653,-0.034841299057006836,0.03432728722691536]]\n",
            "============================\n"
          ]
        }
      ]
    },
    {
      "cell_type": "markdown",
      "source": [
        "## n-gram"
      ],
      "metadata": {
        "id": "kNV96DmQAECc"
      }
    },
    {
      "cell_type": "code",
      "source": [
        "from pyspark.ml.feature import NGram"
      ],
      "metadata": {
        "id": "rpc_UE4sADgd"
      },
      "execution_count": null,
      "outputs": []
    },
    {
      "cell_type": "code",
      "source": [
        "wordDataFrame = spk.createDataFrame([\n",
        "    (0, [\"Hi\", \"I\", \"heard\", \"about\", \"Spark\"]),\n",
        "    (1, [\"I\", \"wish\", \"Java\", \"could\", \"use\", \"case\", \"classes\"]),\n",
        "    (2, [\"Logistic\", \"regression\", \"models\", \"are\", \"neat\"])\n",
        "], [\"id\", \"words\"])"
      ],
      "metadata": {
        "id": "TgMtULZH_Zw2"
      },
      "execution_count": null,
      "outputs": []
    },
    {
      "cell_type": "code",
      "source": [
        "ngram = NGram(n=2, inputCol=\"words\", outputCol=\"ngrams\")\n",
        "\n",
        "ngramDataFrame = ngram.transform(wordDataFrame)\n",
        "ngramDataFrame.show()"
      ],
      "metadata": {
        "id": "mq02Z7kSAY1F",
        "outputId": "250bf85b-7173-412a-9876-041966ab8177",
        "colab": {
          "base_uri": "https://localhost:8080/"
        }
      },
      "execution_count": null,
      "outputs": [
        {
          "output_type": "stream",
          "name": "stdout",
          "text": [
            "+---+--------------------+--------------------+\n",
            "| id|               words|              ngrams|\n",
            "+---+--------------------+--------------------+\n",
            "|  0|[Hi, I, heard, ab...|[Hi I, I heard, h...|\n",
            "|  1|[I, wish, Java, c...|[I wish, wish Jav...|\n",
            "|  2|[Logistic, regres...|[Logistic regress...|\n",
            "+---+--------------------+--------------------+\n",
            "\n"
          ]
        }
      ]
    },
    {
      "cell_type": "code",
      "source": [
        "for row in ngramDataFrame.collect():\n",
        "    id,words,ngrams = row\n",
        "    print(\"ID: [%s], Text: [%s] => \\nngrams: [%s] => \\n\" % (id,str(words),str(ngrams)))\n",
        "    print(\"============================\")"
      ],
      "metadata": {
        "id": "xciPa3H8AcEt",
        "colab": {
          "base_uri": "https://localhost:8080/"
        },
        "outputId": "e4e8a864-6ad7-4c21-fe95-c84d287eb87f"
      },
      "execution_count": 86,
      "outputs": [
        {
          "output_type": "stream",
          "name": "stdout",
          "text": [
            "ID: [0], Text: [['Hi', 'I', 'heard', 'about', 'Spark']] => \n",
            "ngrams: [['Hi I', 'I heard', 'heard about', 'about Spark']] => \n",
            "\n",
            "============================\n",
            "ID: [1], Text: [['I', 'wish', 'Java', 'could', 'use', 'case', 'classes']] => \n",
            "ngrams: [['I wish', 'wish Java', 'Java could', 'could use', 'use case', 'case classes']] => \n",
            "\n",
            "============================\n",
            "ID: [2], Text: [['Logistic', 'regression', 'models', 'are', 'neat']] => \n",
            "ngrams: [['Logistic regression', 'regression models', 'models are', 'are neat']] => \n",
            "\n",
            "============================\n"
          ]
        }
      ]
    },
    {
      "cell_type": "markdown",
      "source": [
        "## oneHotEncoder"
      ],
      "metadata": {
        "id": "avoDvMkpGYOJ"
      }
    },
    {
      "cell_type": "code",
      "source": [
        "from pyspark.ml.feature import OneHotEncoder\n",
        "\n",
        "df = spk.createDataFrame([\n",
        "    (0.0, 1.0),\n",
        "    (1.0, 0.0),\n",
        "    (2.0, 1.0),\n",
        "    (0.0, 2.0),\n",
        "    (0.0, 1.0),\n",
        "    (2.0, 0.0)\n",
        "], [\"categoryIndex1\", \"categoryIndex2\"])\n",
        "\n",
        "encoder = OneHotEncoder(inputCols=[\"categoryIndex1\", \"categoryIndex2\"],\n",
        "                        outputCols=[\"categoryVec1\", \"categoryVec2\"])\n",
        "model = encoder.fit(df)\n",
        "encoded = model.transform(df)\n",
        "encoded.show()"
      ],
      "metadata": {
        "colab": {
          "base_uri": "https://localhost:8080/"
        },
        "id": "ixBb5V20GLri",
        "outputId": "bb67e605-4958-4aee-e25d-85d934636dfe"
      },
      "execution_count": 88,
      "outputs": [
        {
          "output_type": "stream",
          "name": "stdout",
          "text": [
            "+--------------+--------------+-------------+-------------+\n",
            "|categoryIndex1|categoryIndex2| categoryVec1| categoryVec2|\n",
            "+--------------+--------------+-------------+-------------+\n",
            "|           0.0|           1.0|(2,[0],[1.0])|(2,[1],[1.0])|\n",
            "|           1.0|           0.0|(2,[1],[1.0])|(2,[0],[1.0])|\n",
            "|           2.0|           1.0|    (2,[],[])|(2,[1],[1.0])|\n",
            "|           0.0|           2.0|(2,[0],[1.0])|    (2,[],[])|\n",
            "|           0.0|           1.0|(2,[0],[1.0])|(2,[1],[1.0])|\n",
            "|           2.0|           0.0|    (2,[],[])|(2,[0],[1.0])|\n",
            "+--------------+--------------+-------------+-------------+\n",
            "\n"
          ]
        }
      ]
    },
    {
      "cell_type": "markdown",
      "source": [
        "## MinMaxScaler"
      ],
      "metadata": {
        "id": "9YnokuN9G2D5"
      }
    },
    {
      "cell_type": "code",
      "source": [
        "from pyspark.ml.feature import MinMaxScaler\n",
        "from pyspark.ml.linalg import Vectors\n",
        "\n",
        "dataFrame = spk.createDataFrame([\n",
        "    (0, Vectors.dense([1.0, 0.1, -1.0]),),\n",
        "    (1, Vectors.dense([2.0, 1.1, 1.0]),),\n",
        "    (2, Vectors.dense([3.0, 10.1, 3.0]),)\n",
        "], [\"id\", \"features\"])\n",
        "\n",
        "scaler = MinMaxScaler(inputCol=\"features\", outputCol=\"scaledFeatures\")\n",
        "\n",
        "# Compute summary statistics and generate MinMaxScalerModel\n",
        "scalerModel = scaler.fit(dataFrame)\n",
        "\n",
        "# rescale each feature to range [min, max].\n",
        "scaledData = scalerModel.transform(dataFrame)\n",
        "print(\"Features scaled to range: [%f, %f]\" % (scaler.getMin(), scaler.getMax()))\n",
        "scaledData.select(\"features\", \"scaledFeatures\").show()"
      ],
      "metadata": {
        "colab": {
          "base_uri": "https://localhost:8080/"
        },
        "id": "ogvPLUx4G30Z",
        "outputId": "afad8f66-9ea6-43de-90cd-f051a6122306"
      },
      "execution_count": 90,
      "outputs": [
        {
          "output_type": "stream",
          "name": "stdout",
          "text": [
            "Features scaled to range: [0.000000, 1.000000]\n",
            "+--------------+--------------+\n",
            "|      features|scaledFeatures|\n",
            "+--------------+--------------+\n",
            "|[1.0,0.1,-1.0]|     (3,[],[])|\n",
            "| [2.0,1.1,1.0]| [0.5,0.1,0.5]|\n",
            "|[3.0,10.1,3.0]| [1.0,1.0,1.0]|\n",
            "+--------------+--------------+\n",
            "\n"
          ]
        }
      ]
    },
    {
      "cell_type": "markdown",
      "source": [
        "## Imputer"
      ],
      "metadata": {
        "id": "yCg3bfwdHJlp"
      }
    },
    {
      "cell_type": "code",
      "source": [
        "from pyspark.ml.feature import Imputer\n",
        "\n",
        "df = spk.createDataFrame([\n",
        "    (1.0, float(\"nan\")),\n",
        "    (2.0, float(\"nan\")),\n",
        "    (float(\"nan\"), 3.0),\n",
        "    (4.0, 4.0),\n",
        "    (5.0, 5.0)\n",
        "], [\"a\", \"b\"])\n",
        "\n",
        "imputer = Imputer(inputCols=[\"a\", \"b\"], outputCols=[\"out_a\", \"out_b\"])\n",
        "model = imputer.fit(df)\n",
        "\n",
        "model.transform(df).show()"
      ],
      "metadata": {
        "colab": {
          "base_uri": "https://localhost:8080/"
        },
        "id": "gsjT6lnqG6VB",
        "outputId": "c620ba0e-c191-4deb-c093-ec2d287fe891"
      },
      "execution_count": 91,
      "outputs": [
        {
          "output_type": "stream",
          "name": "stdout",
          "text": [
            "+---+---+-----+-----+\n",
            "|  a|  b|out_a|out_b|\n",
            "+---+---+-----+-----+\n",
            "|1.0|NaN|  1.0|  4.0|\n",
            "|2.0|NaN|  2.0|  4.0|\n",
            "|NaN|3.0|  3.0|  3.0|\n",
            "|4.0|4.0|  4.0|  4.0|\n",
            "|5.0|5.0|  5.0|  5.0|\n",
            "+---+---+-----+-----+\n",
            "\n"
          ]
        }
      ]
    }
  ]
}